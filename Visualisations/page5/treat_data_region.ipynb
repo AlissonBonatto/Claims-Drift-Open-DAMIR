{
 "cells": [
  {
   "cell_type": "code",
   "execution_count": 1,
   "metadata": {},
   "outputs": [],
   "source": [
    "import polars as pl\n",
    "import gc\n",
    "from codes_mapping import *\n",
    "from population_data import *"
   ]
  },
  {
   "cell_type": "markdown",
   "metadata": {},
   "source": [
    "Aggregating by region..."
   ]
  },
  {
   "cell_type": "code",
   "execution_count": 2,
   "metadata": {},
   "outputs": [
    {
     "name": "stdout",
     "output_type": "stream",
     "text": [
      "shape: (13, 4)\n",
      "┌─────────────────────────────────┬─────────────┬─────────────┬──────────┐\n",
      "│ BEN_RES_REG                     ┆ FLT_REM_MNT ┆ FLT_PAI_MNT ┆ RAC      │\n",
      "│ ---                             ┆ ---         ┆ ---         ┆ ---      │\n",
      "│ str                             ┆ f64         ┆ f64         ┆ f64      │\n",
      "╞═════════════════════════════════╪═════════════╪═════════════╪══════════╡\n",
      "│ Hauts-de-France - Nord-Pas-de-… ┆ 1.1957e10   ┆ 1.4140e10   ┆ 2.1830e9 │\n",
      "│ Centre-Val de Loire             ┆ 4.6264e9    ┆ 5.6644e9    ┆ 1.0380e9 │\n",
      "│ Normandie                       ┆ 6.3629e9    ┆ 7.4126e9    ┆ 1.0496e9 │\n",
      "│ Aquitaine-Limousin-Poitou-Char… ┆ 1.2221e10   ┆ 1.4712e10   ┆ 2.4916e9 │\n",
      "│ Bourgogne-Franche-Comté         ┆ 5.0850e9    ┆ 6.1677e9    ┆ 1.0827e9 │\n",
      "│ Pays de la Loire                ┆ 6.3446e9    ┆ 7.6870e9    ┆ 1.3424e9 │\n",
      "│ Provence-Alpes-Côte d'Azur et … ┆ 1.4145e10   ┆ 1.6820e10   ┆ 2.6756e9 │\n",
      "│ Bretagne                        ┆ 6.0534e9    ┆ 7.1597e9    ┆ 1.1063e9 │\n",
      "│ Régions et Départements d'outr… ┆ 4.6833e9    ┆ 5.6731e9    ┆ 9.8977e8 │\n",
      "│ Languedoc-Roussillon-Midi-Pyré… ┆ 1.3828e10   ┆ 1.6445e10   ┆ 2.6177e9 │\n",
      "│ Ile-de-France                   ┆ 2.0382e10   ┆ 2.7032e10   ┆ 6.6501e9 │\n",
      "│ Grand Est                       ┆ 1.0480e10   ┆ 1.3295e10   ┆ 2.8154e9 │\n",
      "│ Auvergne-Rhône-Alpes            ┆ 1.4717e10   ┆ 1.8048e10   ┆ 3.3319e9 │\n",
      "└─────────────────────────────────┴─────────────┴─────────────┴──────────┘\n"
     ]
    }
   ],
   "source": [
    "# List of indicators\n",
    "indicators = ['FLT_REM_MNT', 'FLT_PAI_MNT']\n",
    "x_columns = ['BEN_RES_REG']\n",
    "relevant_columns = indicators + x_columns\n",
    "\n",
    "dates = {2024 : ['0' + str(i) if i<10 else str(i) for i in range(1, 13)]}\n",
    "\n",
    "data = pl.DataFrame()\n",
    "df_region = pl.DataFrame()\n",
    "\n",
    "dataset_path = '/Data'\n",
    "\n",
    "for year in dates.keys():\n",
    "    for month in dates[year]:\n",
    "        suffix = '.csv'\n",
    "\n",
    "        # Current month    \n",
    "        data = pl.read_csv(f'{dataset_path}/A{year}/A{year}{month}.csv', separator = ';', infer_schema_length=1000, columns = relevant_columns)\n",
    "        \n",
    "        # Computing RAC\n",
    "        data = data.with_columns((pl.col('FLT_PAI_MNT') - pl.col('FLT_REM_MNT')).alias('RAC'))\n",
    "\n",
    "        # Aggregating by region\n",
    "\n",
    "        keys_to_group_by = ['BEN_RES_REG']\n",
    "        all_indicators = indicators + ['RAC']\n",
    "        all_keys = all_indicators + keys_to_group_by\n",
    "        df_aggr = data[all_keys].group_by(keys_to_group_by).agg([pl.col(*all_indicators).sum()])\n",
    "\n",
    "        df_region = df_region.vstack(df_aggr.group_by(['BEN_RES_REG']).agg(pl.col(*all_indicators).sum()))\n",
    "\n",
    "        # Aggregating by category\n",
    "        \n",
    "        del data\n",
    "        gc.collect()\n",
    "\n",
    "# Aggregating by region last time and changing the code of region by its name\n",
    "\n",
    "df_region = df_region[all_keys].group_by(keys_to_group_by).agg(pl.col(*all_indicators).sum())\n",
    "df_region = df_region.with_columns(pl.col(*keys_to_group_by).replace_strict(dict_region))\n",
    "df_region = df_region.filter(pl.col('BEN_RES_REG') != 'Inconnu')\n",
    "\n",
    "pl.Config.set_tbl_rows(100)\n",
    "print(df_region)"
   ]
  },
  {
   "cell_type": "markdown",
   "metadata": {},
   "source": [
    "Crossing data with population data"
   ]
  },
  {
   "cell_type": "code",
   "execution_count": 3,
   "metadata": {},
   "outputs": [
    {
     "name": "stdout",
     "output_type": "stream",
     "text": [
      "shape: (13, 7)\n",
      "┌───────────────┬─────────────┬─────────────┬──────────┬────────────┬──────────────┬───────────────┐\n",
      "│ BEN_RES_REG   ┆ FLT_REM_MNT ┆ FLT_PAI_MNT ┆ RAC      ┆ POPULATION ┆ PAI_MNT_PERS ┆ VARIATION_ARO │\n",
      "│ ---           ┆ ---         ┆ ---         ┆ ---      ┆ ---        ┆ ---          ┆ UND_NAT_AVG   │\n",
      "│ str           ┆ f64         ┆ f64         ┆ f64      ┆ i64        ┆ f64          ┆ ---           │\n",
      "│               ┆             ┆             ┆          ┆            ┆              ┆ f64           │\n",
      "╞═══════════════╪═════════════╪═════════════╪══════════╪════════════╪══════════════╪═══════════════╡\n",
      "│ Hauts-de-Fran ┆ 1.1957e10   ┆ 1.4140e10   ┆ 2.1830e9 ┆ 5983823    ┆ 2362.973099  ┆ 0.815459      │\n",
      "│ ce -          ┆             ┆             ┆          ┆            ┆              ┆               │\n",
      "│ Nord-Pas-de-… ┆             ┆             ┆          ┆            ┆              ┆               │\n",
      "│ Centre-Val de ┆ 4.6264e9    ┆ 5.6644e9    ┆ 1.0380e9 ┆ 2573295    ┆ 2201.243168  ┆ -6.084694     │\n",
      "│ Loire         ┆             ┆             ┆          ┆            ┆              ┆               │\n",
      "│ Normandie     ┆ 6.3629e9    ┆ 7.4126e9    ┆ 1.0496e9 ┆ 3327077    ┆ 2227.956273  ┆ -4.944989     │\n",
      "│ Aquitaine-Lim ┆ 1.2221e10   ┆ 1.4712e10   ┆ 2.4916e9 ┆ 6154772    ┆ 2390.362375  ┆ 1.984014      │\n",
      "│ ousin-Poitou- ┆             ┆             ┆          ┆            ┆              ┆               │\n",
      "│ Char…         ┆             ┆             ┆          ┆            ┆              ┆               │\n",
      "│ Bourgogne-Fra ┆ 5.0850e9    ┆ 6.1677e9    ┆ 1.0827e9 ┆ 2791719    ┆ 2209.275791  ┆ -5.741985     │\n",
      "│ nche-Comté    ┆             ┆             ┆          ┆            ┆              ┆               │\n",
      "│ Pays de la    ┆ 6.3446e9    ┆ 7.6870e9    ┆ 1.3424e9 ┆ 3926389    ┆ 1957.767581  ┆ -16.472499    │\n",
      "│ Loire         ┆             ┆             ┆          ┆            ┆              ┆               │\n",
      "│ Provence-Alpe ┆ 1.4145e10   ┆ 1.6820e10   ┆ 2.6756e9 ┆ 5553539    ┆ 3028.74371   ┆ 29.22034      │\n",
      "│ s-Côte d'Azur ┆             ┆             ┆          ┆            ┆              ┆               │\n",
      "│ et …          ┆             ┆             ┆          ┆            ┆              ┆               │\n",
      "│ Bretagne      ┆ 6.0534e9    ┆ 7.1597e9    ┆ 1.1063e9 ┆ 3453023    ┆ 2073.465043  ┆ -11.536305    │\n",
      "│ Régions et    ┆ 4.6833e9    ┆ 5.6731e9    ┆ 9.8977e8 ┆ 2230472    ┆ 2543.461252  ┆ 8.515926      │\n",
      "│ Départements  ┆             ┆             ┆          ┆            ┆              ┆               │\n",
      "│ d'outr…       ┆             ┆             ┆          ┆            ┆              ┆               │\n",
      "│ Languedoc-Rou ┆ 1.3828e10   ┆ 1.6445e10   ┆ 2.6177e9 ┆ 6154729    ┆ 2672.000049  ┆ 13.999991     │\n",
      "│ ssillon-Midi- ┆             ┆             ┆          ┆            ┆              ┆               │\n",
      "│ Pyré…         ┆             ┆             ┆          ┆            ┆              ┆               │\n",
      "│ Ile-de-France ┆ 2.0382e10   ┆ 2.7032e10   ┆ 6.6501e9 ┆ 12419961   ┆ 2176.514056  ┆ -7.139754     │\n",
      "│ Grand Est     ┆ 1.0480e10   ┆ 1.3295e10   ┆ 2.8154e9 ┆ 5568711    ┆ 2387.46684   ┆ 1.860477      │\n",
      "│ Auvergne-Rhôn ┆ 1.4717e10   ┆ 1.8048e10   ┆ 3.3319e9 ┆ 8235923    ┆ 2191.43344   ┆ -6.503223     │\n",
      "│ e-Alpes       ┆             ┆             ┆          ┆            ┆              ┆               │\n",
      "└───────────────┴─────────────┴─────────────┴──────────┴────────────┴──────────────┴───────────────┘\n"
     ]
    }
   ],
   "source": [
    "# Creating population column\n",
    "df_region = df_region.with_columns(pl.col('BEN_RES_REG').replace_strict(dict_region_population_2023).alias('POPULATION'))\n",
    "\n",
    "# Computing RAC per person\n",
    "df_region = df_region.with_columns((pl.col('FLT_PAI_MNT')/pl.col('POPULATION')).alias('PAI_MNT_PERS'))\n",
    "\n",
    "# Computing the national average per person:\n",
    "national_average_per_person = df_region['FLT_PAI_MNT'].sum()/df_region['POPULATION'].sum()\n",
    "\n",
    "# Computing the variation (in percetage) around the national average per person\n",
    "# Storing in a new column ('VARIATION_AROUND_NAT_AVG')\n",
    "df_region = df_region.with_columns((100*(pl.col('PAI_MNT_PERS') - national_average_per_person)/national_average_per_person).alias('VARIATION_AROUND_NAT_AVG'))\n",
    "\n",
    "pl.Config.set_tbl_rows(200)\n",
    "print(df_region)"
   ]
  },
  {
   "cell_type": "markdown",
   "metadata": {},
   "source": [
    "Saving data in file"
   ]
  },
  {
   "cell_type": "code",
   "execution_count": 4,
   "metadata": {},
   "outputs": [],
   "source": [
    "path_to_save = f'{dataset_path}/millman_barometre/page_2'\n",
    "\n",
    "df_region.write_csv(f'{path_to_save}/2024_region.csv', separator=';')"
   ]
  }
 ],
 "metadata": {
  "kernelspec": {
   "display_name": "Python 3",
   "language": "python",
   "name": "python3"
  },
  "language_info": {
   "codemirror_mode": {
    "name": "ipython",
    "version": 3
   },
   "file_extension": ".py",
   "mimetype": "text/x-python",
   "name": "python",
   "nbconvert_exporter": "python",
   "pygments_lexer": "ipython3",
   "version": "3.8.10"
  }
 },
 "nbformat": 4,
 "nbformat_minor": 2
}
