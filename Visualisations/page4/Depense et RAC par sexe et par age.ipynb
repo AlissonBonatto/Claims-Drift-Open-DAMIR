{
 "cells": [
  {
   "cell_type": "code",
   "execution_count": null,
   "metadata": {},
   "outputs": [],
   "source": [
    "import pandas as pd\n",
    "\n",
    "df = pd.read_csv(\"./DBs/RAC_par_mois.csv\", sep=',')"
   ]
  },
  {
   "cell_type": "code",
   "execution_count": 12,
   "metadata": {},
   "outputs": [
    {
     "data": {
      "text/html": [
       "<div>\n",
       "<style scoped>\n",
       "    .dataframe tbody tr th:only-of-type {\n",
       "        vertical-align: middle;\n",
       "    }\n",
       "\n",
       "    .dataframe tbody tr th {\n",
       "        vertical-align: top;\n",
       "    }\n",
       "\n",
       "    .dataframe thead th {\n",
       "        text-align: right;\n",
       "    }\n",
       "</style>\n",
       "<table border=\"1\" class=\"dataframe\">\n",
       "  <thead>\n",
       "    <tr style=\"text-align: right;\">\n",
       "      <th></th>\n",
       "      <th>Tranche_age</th>\n",
       "      <th>Sexe</th>\n",
       "      <th>Population</th>\n",
       "    </tr>\n",
       "  </thead>\n",
       "  <tbody>\n",
       "    <tr>\n",
       "      <th>0</th>\n",
       "      <td>0-19</td>\n",
       "      <td>Hommes</td>\n",
       "      <td>8075000</td>\n",
       "    </tr>\n",
       "    <tr>\n",
       "      <th>1</th>\n",
       "      <td>20-29</td>\n",
       "      <td>Hommes</td>\n",
       "      <td>3967000</td>\n",
       "    </tr>\n",
       "    <tr>\n",
       "      <th>2</th>\n",
       "      <td>30-39</td>\n",
       "      <td>Hommes</td>\n",
       "      <td>4105000</td>\n",
       "    </tr>\n",
       "    <tr>\n",
       "      <th>3</th>\n",
       "      <td>40-49</td>\n",
       "      <td>Hommes</td>\n",
       "      <td>4173000</td>\n",
       "    </tr>\n",
       "    <tr>\n",
       "      <th>4</th>\n",
       "      <td>50-59</td>\n",
       "      <td>Hommes</td>\n",
       "      <td>4391000</td>\n",
       "    </tr>\n",
       "  </tbody>\n",
       "</table>\n",
       "</div>"
      ],
      "text/plain": [
       "  Tranche_age    Sexe  Population\n",
       "0        0-19  Hommes     8075000\n",
       "1       20-29  Hommes     3967000\n",
       "2       30-39  Hommes     4105000\n",
       "3       40-49  Hommes     4173000\n",
       "4       50-59  Hommes     4391000"
      ]
     },
     "execution_count": 12,
     "metadata": {},
     "output_type": "execute_result"
    }
   ],
   "source": [
    "import pandas as pd\n",
    "\n",
    "df_1 = pd.read_csv(\"./utils/Population_2024.csv\", sep=',')\n",
    "df_melted = pd.melt(\n",
    "    df_1,\n",
    "    id_vars=['Tranche_age'],\n",
    "    value_vars=['Hommes', 'Femmes'],\n",
    "    var_name='Sexe',\n",
    "    value_name='Population'\n",
    ")\n",
    "df_melted.head()\n"
   ]
  },
  {
   "cell_type": "code",
   "execution_count": 13,
   "metadata": {},
   "outputs": [],
   "source": [
    "tranche_age_mapping = {0:'0-19',\n",
    "                       20:'20-29',\n",
    "                       30:'30-39',\n",
    "                       40:'40-49',\n",
    "                       50:'50-59',\n",
    "                       60:'60-69',\n",
    "                       70:'70-79',\n",
    "                       80:'80+'}\n",
    "\n",
    "sexe_mapping = {1:'Hommes',\n",
    "                2:'Femmes'}"
   ]
  },
  {
   "cell_type": "code",
   "execution_count": null,
   "metadata": {},
   "outputs": [],
   "source": [
    "year_of_interest = 2024\n",
    "\n",
    "df_filtered = df[(df['AGE_BEN_SNDS']!=99) & (df['Year'] == year_of_interest) & (df['BEN_SEX_COD'] != 0)]\n",
    "                 \n",
    "df_filtered['AGE_BEN_SNDS'] = df_filtered['AGE_BEN_SNDS'].apply(lambda x: tranche_age_mapping.get(x, x))\n",
    "\n",
    "df_filtered['BEN_SEX_COD'] = df_filtered['BEN_SEX_COD'].apply(lambda x: sexe_mapping.get(x, x))\n",
    "\n",
    "\n"
   ]
  },
  {
   "cell_type": "code",
   "execution_count": 17,
   "metadata": {},
   "outputs": [
    {
     "data": {
      "text/html": [
       "<div>\n",
       "<style scoped>\n",
       "    .dataframe tbody tr th:only-of-type {\n",
       "        vertical-align: middle;\n",
       "    }\n",
       "\n",
       "    .dataframe tbody tr th {\n",
       "        vertical-align: top;\n",
       "    }\n",
       "\n",
       "    .dataframe thead th {\n",
       "        text-align: right;\n",
       "    }\n",
       "</style>\n",
       "<table border=\"1\" class=\"dataframe\">\n",
       "  <thead>\n",
       "    <tr style=\"text-align: right;\">\n",
       "      <th></th>\n",
       "      <th>Tranche_age</th>\n",
       "      <th>Sexe</th>\n",
       "      <th>RAC</th>\n",
       "      <th>montant_payé</th>\n",
       "    </tr>\n",
       "  </thead>\n",
       "  <tbody>\n",
       "    <tr>\n",
       "      <th>0</th>\n",
       "      <td>0-19</td>\n",
       "      <td>Femmes</td>\n",
       "      <td>3.239398e+09</td>\n",
       "      <td>7.562893e+09</td>\n",
       "    </tr>\n",
       "    <tr>\n",
       "      <th>1</th>\n",
       "      <td>0-19</td>\n",
       "      <td>Hommes</td>\n",
       "      <td>3.146707e+09</td>\n",
       "      <td>8.080126e+09</td>\n",
       "    </tr>\n",
       "    <tr>\n",
       "      <th>2</th>\n",
       "      <td>20-29</td>\n",
       "      <td>Femmes</td>\n",
       "      <td>1.868235e+09</td>\n",
       "      <td>5.390379e+09</td>\n",
       "    </tr>\n",
       "    <tr>\n",
       "      <th>3</th>\n",
       "      <td>20-29</td>\n",
       "      <td>Hommes</td>\n",
       "      <td>1.207528e+09</td>\n",
       "      <td>3.528516e+09</td>\n",
       "    </tr>\n",
       "    <tr>\n",
       "      <th>4</th>\n",
       "      <td>30-39</td>\n",
       "      <td>Femmes</td>\n",
       "      <td>2.481996e+09</td>\n",
       "      <td>7.741492e+09</td>\n",
       "    </tr>\n",
       "  </tbody>\n",
       "</table>\n",
       "</div>"
      ],
      "text/plain": [
       "  Tranche_age    Sexe           RAC  montant_payé\n",
       "0        0-19  Femmes  3.239398e+09  7.562893e+09\n",
       "1        0-19  Hommes  3.146707e+09  8.080126e+09\n",
       "2       20-29  Femmes  1.868235e+09  5.390379e+09\n",
       "3       20-29  Hommes  1.207528e+09  3.528516e+09\n",
       "4       30-39  Femmes  2.481996e+09  7.741492e+09"
      ]
     },
     "execution_count": 17,
     "metadata": {},
     "output_type": "execute_result"
    }
   ],
   "source": [
    "grouped_df = df_filtered.drop(columns = ['Year', 'Month']).groupby(['AGE_BEN_SNDS', 'BEN_SEX_COD']).sum()\n",
    "grouped_df.reset_index(inplace=True)\n",
    "grouped_df.columns = ['Tranche_age', 'Sexe', 'RAC', 'montant_payé']\n",
    "grouped_df.head()"
   ]
  },
  {
   "cell_type": "code",
   "execution_count": 18,
   "metadata": {},
   "outputs": [],
   "source": [
    "merged_df = pd.merge(df_melted, grouped_df, how='outer', on=['Tranche_age', 'Sexe'])\n",
    "merged_df['montant_payé_par_personne'] = merged_df['montant_payé'] / merged_df['Population']\n",
    "merged_df['RAC_par_personne'] = merged_df['RAC'] / merged_df['Population']\n",
    "meaned_df = merged_df.drop(columns = ['Tranche_age']).groupby(['Sexe']).mean().reset_index()\n",
    "meaned_df['Tranche_age'] = 'Moyenne'\n",
    "\n",
    "final_df = pd.concat([merged_df, meaned_df], ignore_index=True)\n",
    "final_df.to_csv('./Dépense et RAC par sexe et par age 2024.csv', sep=',', index=False)"
   ]
  }
 ],
 "metadata": {
  "kernelspec": {
   "display_name": "venv",
   "language": "python",
   "name": "python3"
  },
  "language_info": {
   "codemirror_mode": {
    "name": "ipython",
    "version": 3
   },
   "file_extension": ".py",
   "mimetype": "text/x-python",
   "name": "python",
   "nbconvert_exporter": "python",
   "pygments_lexer": "ipython3",
   "version": "3.10.13"
  }
 },
 "nbformat": 4,
 "nbformat_minor": 2
}
